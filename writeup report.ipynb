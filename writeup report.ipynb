{
 "cells": [
  {
   "cell_type": "markdown",
   "metadata": {},
   "source": [
    "# The goals / steps of this project are the following:"
   ]
  },
  {
   "cell_type": "markdown",
   "metadata": {},
   "source": [
    "## Training / Calibration\n",
    "\n",
    "* Download the simulator and take data in \"Training Mode\""
   ]
  },
  {
   "cell_type": "markdown",
   "metadata": {},
   "source": [
    "<img src=\"./images/Unity-Setting.png\" style=\"width:304px;height:228px;\" />"
   ]
  },
  {
   "cell_type": "markdown",
   "metadata": {},
   "source": [
    "* Test out the functions in the Jupyter Notebook provided\n",
    "* Add functions to detect obstacles and samples of interest (golden rocks)"
   ]
  },
  {
   "cell_type": "markdown",
   "metadata": {},
   "source": [
    "<img src=\"./calibration_images/example_rock1.jpg\" />"
   ]
  },
  {
   "cell_type": "markdown",
   "metadata": {},
   "source": [
    "* Fill in the `process_image()` function with the appropriate image processing steps (perspective transform, color threshold etc.) to get from raw images to a map.  The `output_image` creating in this step should demonstrate that mapping pipeline works."
   ]
  },
  {
   "cell_type": "code",
   "execution_count": null,
   "metadata": {
    "collapsed": true
   },
   "outputs": [],
   "source": [
    "def color_thresh_object(img, rgb_thresh=(137,255,99,255,0,100)):\n",
    "    # Create an array of zeros same xy size as img, but single channel\n",
    "    color_select = np.zeros_like(img[:,:,0])\n",
    "    # Require that each pixel be above all three threshold values in RGB\n",
    "    # above_thresh will now contain a boolean array with \"True\"\n",
    "    # where threshold was met\n",
    "    above_thresh = (img[:,:,0] >= rgb_thresh[0]) & (img[:,:,0] <= rgb_thresh[1]) \\\n",
    "                & (img[:,:,1] >= rgb_thresh[2]) & (img[:,:,1] <= rgb_thresh[3]) \\\n",
    "                & (img[:,:,2] >= rgb_thresh[4]) & (img[:,:,2] <= rgb_thresh[5])\n",
    "    # Index the array of zeros with the boolean array and set to 1\n",
    "    color_select[above_thresh] = 1\n",
    "    # Return the binary image\n",
    "    return color_select\n",
    "\n",
    "# Identify pixels above the threshold\n",
    "# Threshold of RGB > 160 does a nice job of identifying ground pixels and obstacle pixels\n",
    "def color_thresh1(img, rgb_thresh=(160,160,160)):\n",
    "    # Create an array of zeros same xy size as img, but single channel\n",
    "    color_select = np.zeros_like(img[:,:,0])\n",
    "    # Require that each pixel be above all three threshold values in RGB\n",
    "    # above_thresh will now contain a boolean array with \"True\"\n",
    "    # where threshold was met\n",
    "    above_thresh = (img[:,:,0] > rgb_thresh[0])  \\\n",
    "                & (img[:,:,1] > rgb_thresh[1])  \\\n",
    "                & (img[:,:,2] > rgb_thresh[2])\n",
    "    # Index the array of zeros with the boolean array and set to 1\n",
    "    color_select[above_thresh] = 1\n",
    "    # invert color selection \n",
    "    #obstacle_img = cv2.bitwise_not(color_select)\n",
    "    obstacle_img = np.zeros_like(img[:,:,0])\n",
    "    aux = np.invert(above_thresh)\n",
    "    obstacle_img[aux] = 1\n",
    "    # Return two binary images\n",
    "    return color_select, obstacle_img\n",
    "\n",
    "# Define a function to pass stored images to\n",
    "# reading rover position and yaw angle from csv file\n",
    "# This function will be used by moviepy to create an output video\n",
    "def process_image(img):\n",
    "    # Example of how to use the Databucket() object defined above\n",
    "    # to print the current x, y and yaw values \n",
    "    # print(data.xpos[data.count], data.ypos[data.count], data.yaw[data.count])\n",
    "\n",
    "    # TODO: \n",
    "    # 1) Define source and destination points for perspective transform\n",
    "    dst_size = 5 \n",
    "    bottom_offset = 6\n",
    "    source = np.float32([[14, 140], [301 ,140],[200, 96], [118, 96]])\n",
    "    destination = np.float32([[image.shape[1]/2 - dst_size, image.shape[0] - bottom_offset],\n",
    "                  [image.shape[1]/2 + dst_size, image.shape[0] - bottom_offset],\n",
    "                  [image.shape[1]/2 + dst_size, image.shape[0] - 2*dst_size - bottom_offset], \n",
    "                  [image.shape[1]/2 - dst_size, image.shape[0] - 2*dst_size - bottom_offset],\n",
    "                  ])\n",
    "\n",
    "    # 2) Apply perspective transform\n",
    "    warped = perspect_transform(img, source, destination)\n",
    "    # 3) Apply color threshold to identify navigable terrain/obstacles/rock samples\n",
    "    navigable_terrain, obstacle = color_thresh1(warped)\n",
    "    rock_sample = color_thresh_object(warped)    \n",
    "    # 4) Convert thresholded image pixel values to rover-centric coords\n",
    "    obstacle_xpix, obstacle_ypix = rover_coords(obstacle)\n",
    "    rock_sample_xpix, rock_sample_ypix = rover_coords(rock_sample)\n",
    "    navigable_xpix, navigable_ypix = rover_coords(navigable_terrain)\n",
    "    # 5) Convert rover-centric pixel values to world coords\n",
    "    scale = 10\n",
    "    worldmap = np.zeros((200, 200))\n",
    "    xpos = data.xpos[data.count]\n",
    "    ypos = data.ypos[data.count]\n",
    "    yaw =  data.yaw[data.count]\n",
    "    obstacle_x_world, obstacle_y_world = pix_to_world(obstacle_xpix, obstacle_ypix, xpos, \n",
    "                                ypos, yaw, \n",
    "                                worldmap.shape[0], scale)\n",
    "    rock_x_world, rock_y_world = pix_to_world(rock_sample_xpix, rock_sample_ypix, xpos, \n",
    "                                ypos, yaw, \n",
    "                                worldmap.shape[0], scale)    \n",
    "    navigable_x_world, navigable_y_world = pix_to_world(navigable_xpix, navigable_ypix, xpos, \n",
    "                                ypos, yaw, \n",
    "                                worldmap.shape[0], scale)    \n",
    "    # 6) Update worldmap (to be displayed on right side of screen)\n",
    "    data.worldmap[obstacle_y_world, obstacle_x_world, 0] += 1\n",
    "    data.worldmap[rock_y_world, rock_x_world, 1] += 1\n",
    "    data.worldmap[navigable_y_world, navigable_x_world, 2] += 1\n",
    "\n",
    "    # 7) Make a mosaic image, below is some example code\n",
    "        # First create a blank image (can be whatever shape you like)\n",
    "    output_image = np.zeros((img.shape[0] + data.worldmap.shape[0], img.shape[1]*2, 3))\n",
    "        # Next you can populate regions of the image with various output\n",
    "        # Here I'm putting the original image in the upper left hand corner\n",
    "    output_image[0:img.shape[0], 0:img.shape[1]] = img\n",
    "\n",
    "        # Let's create more images to add to the mosaic, first a warped image\n",
    "    warped = perspect_transform(img, source, destination)\n",
    "        # Add the warped image in the upper right hand corner\n",
    "    output_image[0:img.shape[0], img.shape[1]:] = warped\n",
    "\n",
    "        # Overlay worldmap with ground truth map\n",
    "    map_add = cv2.addWeighted(data.worldmap, 1, data.ground_truth, 0.5, 0)\n",
    "        # Flip map overlay so y-axis points upward and add to output_image \n",
    "    output_image[img.shape[0]:, 0:data.worldmap.shape[1]] = np.flipud(map_add)\n",
    "\n",
    "\n",
    "        # Then putting some text over the image\n",
    "    cv2.putText(output_image,\"Populate this image with your analyses to make a video!\", (20, 20), \n",
    "                cv2.FONT_HERSHEY_COMPLEX, 0.4, (255, 255, 255), 1)\n",
    "    data.count += 1 # Keep track of the index in the Databucket()\n",
    "    \n",
    "    return output_image"
   ]
  },
  {
   "cell_type": "markdown",
   "metadata": {
    "collapsed": true
   },
   "source": [
    "* Use `moviepy` to process the images in saved dataset with the `process_image()` function.  Include the video produced as part of the submission.\n",
    "\n",
    "Note: Need to run Python code to get the mp4 video"
   ]
  },
  {
   "cell_type": "code",
   "execution_count": 1,
   "metadata": {},
   "outputs": [
    {
     "data": {
      "text/html": [
       "\n",
       "<video width=\"480\" height=\"270\" controls>\n",
       "  <source src=\"./output/test_mapping.mp4\">\n",
       "</video>\n"
      ],
      "text/plain": [
       "<IPython.core.display.HTML object>"
      ]
     },
     "execution_count": 1,
     "metadata": {},
     "output_type": "execute_result"
    }
   ],
   "source": [
    "from IPython.display import HTML\n",
    "HTML(\"\"\"\n",
    "<video width=\"480\" height=\"270\" controls>\n",
    "  <source src=\"{0}\">\n",
    "</video>\n",
    "\"\"\".format('./output/test_mapping.mp4'))"
   ]
  },
  {
   "cell_type": "markdown",
   "metadata": {},
   "source": [
    "\n",
    "## Autonomous Navigation / Mapping\n"
   ]
  },
  {
   "cell_type": "markdown",
   "metadata": {},
   "source": [
    "* Fill in the `perception_step()` function within the `perception.py` script with the appropriate image processing functions to create a map and update `Rover()` data (similar to `process_image()` in the notebook). \n",
    "\n",
    "The code in perception_step() "
   ]
  },
  {
   "cell_type": "code",
   "execution_count": null,
   "metadata": {
    "collapsed": true
   },
   "outputs": [],
   "source": [
    "# Identify pixels for Rock\n",
    "# Threshold of RGB >= 160 low bound and RGB <= high bound, a nice job of identifying rock pixels only\n",
    "def color_thresh_object(img, rgb_thresh=(137,255,99,255,0,100)):\n",
    "    # Create an array of zeros same xy size as img, but single channel\n",
    "    color_select = np.zeros_like(img[:,:,0])\n",
    "    # Require that each pixel be above all three threshold values in RGB\n",
    "    # above_thresh will now contain a boolean array with \"True\"\n",
    "    # where threshold was met\n",
    "    above_thresh = (img[:,:,0] >= rgb_thresh[0]) & (img[:,:,0] <= rgb_thresh[1]) \\\n",
    "                & (img[:,:,1] >= rgb_thresh[2]) & (img[:,:,1] <= rgb_thresh[3]) \\\n",
    "                & (img[:,:,2] >= rgb_thresh[4]) & (img[:,:,2] <= rgb_thresh[5])\n",
    "    # Index the array of zeros with the boolean array and set to 1\n",
    "    color_select[above_thresh] = 1\n",
    "    # Return the binary image\n",
    "    return color_select\n",
    "\n",
    "# Identify pixels above the threshold\n",
    "# Threshold of RGB > 160 does a nice job of identifying ground pixels and obstacle pixels\n",
    "def color_thresh(img, rgb_thresh=(160,160,160)):\n",
    "    # Create an array of zeros same xy size as img, but single channel\n",
    "    color_select = np.zeros_like(img[:,:,0])\n",
    "    # Require that each pixel be above all three threshold values in RGB\n",
    "    # above_thresh will now contain a boolean array with \"True\"\n",
    "    # where threshold was met\n",
    "    above_thresh = (img[:,:,0] > rgb_thresh[0])  \\\n",
    "                & (img[:,:,1] > rgb_thresh[1])  \\\n",
    "                & (img[:,:,2] > rgb_thresh[2])\n",
    "    # Index the array of zeros with the boolean array and set to 1\n",
    "    color_select[above_thresh] = 1\n",
    "    # Invert color selection \n",
    "    obstacle_img = np.zeros_like(img[:,:,0])\n",
    "#    obstacle_img = cv2.bitwise_not(color_select)\n",
    "    aux = np.invert(above_thresh)\n",
    "    obstacle_img[aux] = 1\n",
    "    # Return two binary images\n",
    "    return color_select, obstacle_img\n",
    "\n",
    "# Define a function to apply a rotation to pixel positions\n",
    "def rotate_pix(xpix, ypix, yaw):\n",
    "    # TODO:\n",
    "    # Convert yaw to radians\n",
    "    # Apply a rotation\n",
    "    yaw_rad = yaw * np.pi / 180\n",
    "    xpix_rotated = (xpix * np.cos(yaw_rad)) - (ypix * np.sin(yaw_rad))                            \n",
    "    ypix_rotated = (xpix * np.sin(yaw_rad)) + (ypix * np.cos(yaw_rad))\n",
    "    # Return the result  \n",
    "    return xpix_rotated, ypix_rotated\n",
    "\n",
    "# Define a function to perform a translation\n",
    "def translate_pix(xpix_rot, ypix_rot, xpos, ypos, scale): \n",
    "    # TODO:\n",
    "    # Apply a scaling and a translation\n",
    "    xpix_translated = (xpix_rot / scale) + xpos\n",
    "    ypix_translated = (ypix_rot / scale) + ypos\n",
    "    # Return the result  \n",
    "    return xpix_translated, ypix_translated\n",
    "\n",
    "# Apply the above functions in succession and update the Rover state accordingly\n",
    "def perception_step(Rover):\n",
    "    # Perform perception steps to update Rover()\n",
    "    # TODO: \n",
    "    # NOTE: camera image is coming to you in Rover.img\n",
    "    # 1) Define source and destination points for perspective transform\n",
    "    # self.pos = None # Current position (x, y)\n",
    "    dst_size = 5 \n",
    "    bottom_offset = 6\n",
    "    source = np.float32([[14, 140], [301 ,140],[200, 96], [118, 96]])\n",
    "    image = Rover.img\n",
    "    destination = np.float32([[image.shape[1]/2 - dst_size, image.shape[0] - bottom_offset],\n",
    "                  [image.shape[1]/2 + dst_size, image.shape[0] - bottom_offset],\n",
    "                  [image.shape[1]/2 + dst_size, image.shape[0] - 2*dst_size - bottom_offset], \n",
    "                  [image.shape[1]/2 - dst_size, image.shape[0] - 2*dst_size - bottom_offset],\n",
    "                  ])\n",
    "    # 2) Apply perspective transform\n",
    "    warped = perspect_transform(Rover.img, source, destination)\n",
    "    # 3) Apply color threshold to identify navigable terrain/obstacles/rock samples\n",
    "    navigable_terrain, obstacle = color_thresh(warped, (170,170,170))\n",
    "    rock_sample = color_thresh_object(warped)\n",
    "    # 4) Update Rover.vision_image (this will be displayed on left side of screen)\n",
    "        # Example: Rover.vision_image[:,:,0] = obstacle color-thresholded binary image\n",
    "        #          Rover.vision_image[:,:,1] = rock_sample color-thresholded binary image\n",
    "        #          Rover.vision_image[:,:,2] = navigable terrain color-thresholded binary image\n",
    "    Rover.vision_image[:,:,0] = obstacle\n",
    "    Rover.vision_image[:,:,1] = rock_sample*255\n",
    "    Rover.vision_image[:,:,2] = navigable_terrain*255\n",
    "    # 5) Convert map image pixel values to rover-centric coords\n",
    "    obstacle_xpix, obstacle_ypix = rover_coords(obstacle)\n",
    "    rock_sample_xpix, rock_sample_ypix = rover_coords(rock_sample)\n",
    "    navigable_xpix, navigable_ypix = rover_coords(navigable_terrain)\n",
    "    # 6) Convert rover-centric pixel values to world coordinates\n",
    "    scale = 10\n",
    "    worldmap = np.zeros((200, 200))\n",
    "    obstacle_x_world, obstacle_y_world = pix_to_world(obstacle_xpix, obstacle_ypix, Rover.pos[0], \n",
    "                                Rover.pos[1], Rover.yaw, \n",
    "                                worldmap.shape[0], scale)\n",
    "    rock_x_world, rock_y_world = pix_to_world(rock_sample_xpix, rock_sample_ypix, Rover.pos[0], \n",
    "                                Rover.pos[1], Rover.yaw, \n",
    "                                worldmap.shape[0], scale)\n",
    "    navigable_x_world, navigable_y_world = pix_to_world(navigable_xpix, navigable_ypix, Rover.pos[0], \n",
    "                                Rover.pos[1], Rover.yaw, \n",
    "                                worldmap.shape[0], scale)\n",
    "    # 7) Update Rover worldmap (to be displayed on right side of screen)\n",
    "        # Example: Rover.worldmap[obstacle_y_world, obstacle_x_world, 0] += 1\n",
    "        #          Rover.worldmap[rock_y_world, rock_x_world, 1] += 1\n",
    "        #          Rover.worldmap[navigable_y_world, navigable_x_world, 2] += 1\n",
    "    Rover.worldmap[obstacle_y_world, obstacle_x_world, 0] += 1\n",
    "    Rover.worldmap[rock_y_world, rock_x_world, 1] += 1\n",
    "    Rover.worldmap[navigable_y_world, navigable_x_world, 2] += 1\n",
    "    # 8) Convert rover-centric pixel positions to polar coordinates\n",
    "    # Update Rover pixel distances and angles\n",
    "        # Rover.nav_dists = rover_centric_pixel_distances\n",
    "        # Rover.nav_angles = rover_centric_angles\n",
    "    dist, angles = to_polar_coords(navigable_xpix, navigable_ypix)\n",
    "    Rover.nav_dists = dist\n",
    "    Rover.nav_angles = angles\n",
    "        \n",
    "    return Rover"
   ]
  },
  {
   "cell_type": "markdown",
   "metadata": {},
   "source": [
    "* Fill in the `decision_step()` function within the `decision.py` script with conditional statements that take into consideration the outputs of the `perception_step()` in deciding how to issue throttle, brake and steering commands. \n",
    "\n",
    "The code in decision_step()"
   ]
  },
  {
   "cell_type": "code",
   "execution_count": null,
   "metadata": {
    "collapsed": true
   },
   "outputs": [],
   "source": [
    "        if Rover.vel < Rover.max_vel:\n",
    "            # Set throttle value to Max throttle setting                  \n",
    "            Rover.throttle = 1 # Rover.throttle + Rover.throttle_set if Rover.throttle < 1 else Rover.throttle\n",
    "        else: # Else coast\n",
    "            Rover.throttle = 0\n",
    "\n",
    "        # Turn range is +/- 15 degrees, when stopped the next line will induce 4-wheel turning\n",
    "        # Added a new variable: steer_try_no in Rover to count steering number on one direction, \n",
    "        # If one direction trying four time, change another direction to try\n",
    "        if Rover.steer_try_no < 5:\n",
    "            Rover.steer_try_no += 1\n",
    "            Rover.steer = -15 if Rover.steer <= 0 else 15 # Could be more clever here about which way to turn\n",
    "        else:\n",
    "            Rover.steer_try_no = 0\n",
    "            Rover.steer = 15 if Rover.steer >= 0 else -15"
   ]
  },
  {
   "cell_type": "markdown",
   "metadata": {},
   "source": [
    "\n",
    "* Iterate on the perception and decision function until the rover does a reasonable job of navigating and mapping.  \n"
   ]
  },
  {
   "cell_type": "markdown",
   "metadata": {},
   "source": [
    "* Launching in autonomous mode so the rover can navigate and map autonomously. "
   ]
  },
  {
   "cell_type": "markdown",
   "metadata": {},
   "source": [
    "<img src=\"./images/Unity-Mode.png\" style=\"width:340px;height:228px;\" />"
   ]
  },
  {
   "cell_type": "markdown",
   "metadata": {},
   "source": [
    "Developing and testing environment:\n",
    "\n",
    "    System Model Surface Pro 4\n",
    "    Operating System Window 10    \n",
    "    RAM 16GB    \n",
    "    Language Python 3.5 with Jupyter Nootbook    \n",
    "    Virtual System conda 4.3.21\n",
    "    Simulator  Unity 5.6.1  \n",
    "    Git Tool   TortoiseGit 2.4.0.2\n",
    "    \n",
    "Simulator Setting:\n",
    "\n",
    "    Screen Resolution  1920 * 1080\n",
    "    Graphics Quality   Fantastic\n",
    "    Frame Per Second   15\n",
    "    \n",
    "    "
   ]
  },
  {
   "cell_type": "markdown",
   "metadata": {
    "collapsed": true
   },
   "source": [
    "### Results:\n",
    "\n",
    "    Mapped    45-80%\n",
    "    Fidelity  around 50%\n",
    "    Rock Found  2-4\n",
    "    \n",
    "The folloing picture is one of the best result:\n",
    "\n",
    "    It used 190.2 seconds\n",
    "    Maped 80.2%\n",
    "    Fidelity 58.7%\n",
    "    Rock Found 4\n",
    "    "
   ]
  },
  {
   "cell_type": "markdown",
   "metadata": {},
   "source": [
    "<img src=\"./images/Unity-autonomous-2.png\" style=\"width:640px;height:480px;\" />"
   ]
  },
  {
   "cell_type": "markdown",
   "metadata": {},
   "source": [
    "## Problem:\n",
    "    1. The color in Vision Image area is not correct, need to fix.\n",
    "    2. Fidelity percentage never over 70%, need to find why\n",
    "    3. The Rover sometime stopped before a big obstacle object, because there is no \"Back\" command, the game has to be over.\n",
    "    4. Observed the Rover is going to a cycle in a big navigable terrain, need to fix it"
   ]
  },
  {
   "cell_type": "markdown",
   "metadata": {},
   "source": [
    "## Approach in this project\n",
    "\n",
    "    1. Using lower and upper boundary in RGB number to filter Rock sample, I did try to use OpenCV HSV convertion to filter \n",
    "    the object, but using RGB number to filter Rock sample is more direct and help perormance\n",
    "    2. Using cv2.bitwise_not function to invert a navigable_terrain image to obstacle image, this way is more efficiently \n",
    "    and effectively.\n",
    "    3. Adding a new variable Steer try number in Rover class to help the Rover to try different direction after it is stuck \n",
    "    in an obstacle\n",
    "    4. Modifing decision tree to set Rover.throttle = 1 instead of Rover.throttle_set(0.2) to speed up the Rover"
   ]
  },
  {
   "cell_type": "markdown",
   "metadata": {},
   "source": [
    "## I will improve these if I were going to pursue this project further\n",
    "\n",
    "    1. Add \"Back\" command\n",
    "    2. Optimizing the navigation algorithm to do \"Wall crawler\" search \n",
    "    3. Add memory function to avoid revisiting previously maped areas\n",
    "\n"
   ]
  },
  {
   "cell_type": "code",
   "execution_count": null,
   "metadata": {
    "collapsed": true
   },
   "outputs": [],
   "source": []
  }
 ],
 "metadata": {
  "kernelspec": {
   "display_name": "Python 3",
   "language": "python",
   "name": "python3"
  },
  "language_info": {
   "codemirror_mode": {
    "name": "ipython",
    "version": 3
   },
   "file_extension": ".py",
   "mimetype": "text/x-python",
   "name": "python",
   "nbconvert_exporter": "python",
   "pygments_lexer": "ipython3",
   "version": "3.5.2"
  },
  "widgets": {
   "state": {},
   "version": "1.1.2"
  }
 },
 "nbformat": 4,
 "nbformat_minor": 2
}
